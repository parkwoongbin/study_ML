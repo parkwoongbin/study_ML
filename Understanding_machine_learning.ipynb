{
  "nbformat": 4,
  "nbformat_minor": 0,
  "metadata": {
    "colab": {
      "name": "Understanding machine learning.ipynb",
      "provenance": [],
      "authorship_tag": "ABX9TyMxNTU6j+7jzkeubRja2NLU",
      "include_colab_link": true
    },
    "kernelspec": {
      "name": "python3",
      "display_name": "Python 3"
    },
    "language_info": {
      "name": "python"
    }
  },
  "cells": [
    {
      "cell_type": "markdown",
      "metadata": {
        "id": "view-in-github",
        "colab_type": "text"
      },
      "source": [
        "<a href=\"https://colab.research.google.com/github/parkwoongbin/study_ML/blob/master/Understanding_machine_learning.ipynb\" target=\"_parent\"><img src=\"https://colab.research.google.com/assets/colab-badge.svg\" alt=\"Open In Colab\"/></a>"
      ]
    },
    {
      "cell_type": "markdown",
      "metadata": {
        "id": "5MTgZ0nkQova"
      },
      "source": [
        "판매량 예측하기(텐서플로 활용)\n",
        "\n",
        "github csv url: https://raw.githubusercontent.com/parkwoongbin/study_ML/master/CSV/lemonade.csv "
      ]
    },
    {
      "cell_type": "code",
      "metadata": {
        "id": "HM4H0BPSQent"
      },
      "source": [
        "# 라이브러리 사용\n",
        "import tensorflow as tf\n",
        "import pandas as pd"
      ],
      "execution_count": null,
      "outputs": []
    },
    {
      "cell_type": "code",
      "metadata": {
        "id": "SAYv5M83Q6XC"
      },
      "source": [
        "# 데이터를 준비합니다.\n",
        "파일경로 = 'https://raw.githubusercontent.com/parkwoongbin/study_ML/master/CSV/lemonade.csv'\n",
        "lemonade = pd.read_csv(파일경로)\n",
        "lemonade.head()"
      ],
      "execution_count": null,
      "outputs": []
    },
    {
      "cell_type": "code",
      "metadata": {
        "id": "f7sko19bQ6cK"
      },
      "source": [
        "# 종속변수, 독립변수\n",
        "독립 = lemonade[['온도']]\n",
        "종속 = lemonade[['판매량']]\n",
        "print(독립.shape, 종속.shape)"
      ],
      "execution_count": null,
      "outputs": []
    },
    {
      "cell_type": "code",
      "metadata": {
        "id": "SEwNiEZxQ6jA"
      },
      "source": [
        "# 모델을 만듭니다\n",
        "X = tf.keras.layers.Input(shape=[1])\n",
        "Y = tf.keras.layers.Dense(1)(X)\n",
        "model = tf.keras.models.Model(X, Y)\n",
        "model.compile(loss='mse')"
      ],
      "execution_count": null,
      "outputs": []
    },
    {
      "cell_type": "code",
      "metadata": {
        "id": "l1kiaqVQRBVC"
      },
      "source": [
        "# 모델을 학습시킵니다\n",
        "model.fit(독립, 종속, epochs=1000, verbose=0)\n",
        "model.fit(독립, 종속, epochs=10)"
      ],
      "execution_count": null,
      "outputs": []
    },
    {
      "cell_type": "code",
      "metadata": {
        "id": "a4IfpkKKRFJK"
      },
      "source": [
        "# 모델을 이용합니다\n",
        "print(model.predict(독립))\n",
        "print(model.predict([17]))"
      ],
      "execution_count": null,
      "outputs": []
    },
    {
      "cell_type": "code",
      "metadata": {
        "id": "6y7z-GGGBXir"
      },
      "source": [
        "output"
      ],
      "execution_count": null,
      "outputs": []
    }
  ]
}