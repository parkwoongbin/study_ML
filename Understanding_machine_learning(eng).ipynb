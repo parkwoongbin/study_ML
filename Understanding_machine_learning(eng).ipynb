{
  "nbformat": 4,
  "nbformat_minor": 0,
  "metadata": {
    "colab": {
      "name": "Understanding machine learning(eng).ipynb",
      "provenance": [],
      "authorship_tag": "ABX9TyO5H5YlI3neEqfpP9+20JGK",
      "include_colab_link": true
    },
    "kernelspec": {
      "name": "python3",
      "display_name": "Python 3"
    },
    "language_info": {
      "name": "python"
    }
  },
  "cells": [
    {
      "cell_type": "markdown",
      "metadata": {
        "id": "view-in-github",
        "colab_type": "text"
      },
      "source": [
        "<a href=\"https://colab.research.google.com/github/parkwoongbin/study_ML/blob/master/Understanding_machine_learning(eng).ipynb\" target=\"_parent\"><img src=\"https://colab.research.google.com/assets/colab-badge.svg\" alt=\"Open In Colab\"/></a>"
      ]
    },
    {
      "cell_type": "markdown",
      "metadata": {
        "id": "5MTgZ0nkQova"
      },
      "source": [
        "practice sales(using machine learning)\n",
        "\n",
        "github csv url: https://raw.githubusercontent.com/parkwoongbin/study_ML/master/CSV/lemonade(eng).csv "
      ]
    },
    {
      "cell_type": "code",
      "metadata": {
        "id": "HM4H0BPSQent"
      },
      "source": [
        "# 라이브러리 사용 - Using the library\n",
        "import tensorflow as tf\n",
        "import pandas as pd"
      ],
      "execution_count": null,
      "outputs": []
    },
    {
      "cell_type": "code",
      "metadata": {
        "id": "SAYv5M83Q6XC"
      },
      "source": [
        "# 데이터를 준비합니다. - Prepare your data\n",
        "file_path = 'https://raw.githubusercontent.com/parkwoongbin/study_ML/master/CSV/lemonade(eng).csv'\n",
        "lemonade = pd.read_csv(file_path)\n",
        "lemonade.head()"
      ],
      "execution_count": null,
      "outputs": []
    },
    {
      "cell_type": "code",
      "metadata": {
        "id": "f7sko19bQ6cK"
      },
      "source": [
        "# 종속변수, 독립변수 - Separation of dependent and independent variables\n",
        "independent = lemonade[['temp']]\n",
        "dependent = lemonade[['sales']]\n",
        "print(independent.shape, dependent.shape)"
      ],
      "execution_count": null,
      "outputs": []
    },
    {
      "cell_type": "code",
      "metadata": {
        "id": "SEwNiEZxQ6jA"
      },
      "source": [
        "# 모델을 만듭니다. - engineering the model\n",
        "X = tf.keras.layers.Input(shape=[1])\n",
        "Y = tf.keras.layers.Dense(1)(X)\n",
        "model = tf.keras.models.Model(X, Y)\n",
        "model.compile(loss='mse')"
      ],
      "execution_count": null,
      "outputs": []
    },
    {
      "cell_type": "code",
      "metadata": {
        "id": "l1kiaqVQRBVC"
      },
      "source": [
        "# 모델을 학습시킵니다. - training the model\n",
        "model.fit(independent, dependent, epochs=1000, verbose=0)\n",
        "model.fit(independent, dependent, epochs=10)"
      ],
      "execution_count": null,
      "outputs": []
    },
    {
      "cell_type": "code",
      "metadata": {
        "id": "a4IfpkKKRFJK"
      },
      "source": [
        "# 모델을 이용합니다. - using the model\n",
        "print(model.predict(independent))\n",
        "print(model.predict([17]))"
      ],
      "execution_count": null,
      "outputs": []
    },
    {
      "cell_type": "code",
      "metadata": {
        "id": "6y7z-GGGBXir"
      },
      "source": [
        "dependent"
      ],
      "execution_count": null,
      "outputs": []
    }
  ]
}