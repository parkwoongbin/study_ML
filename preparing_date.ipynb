{
  "nbformat": 4,
  "nbformat_minor": 0,
  "metadata": {
    "colab": {
      "name": "preparing date.ipynb",
      "provenance": [],
      "authorship_tag": "ABX9TyOTd9Q0xkgqkQaVABDhiP7H",
      "include_colab_link": true
    },
    "kernelspec": {
      "name": "python3",
      "display_name": "Python 3"
    },
    "language_info": {
      "name": "python"
    }
  },
  "cells": [
    {
      "cell_type": "markdown",
      "metadata": {
        "id": "view-in-github",
        "colab_type": "text"
      },
      "source": [
        "<a href=\"https://colab.research.google.com/github/parkwoongbin/study_ML/blob/master/preparing_date.ipynb\" target=\"_parent\"><img src=\"https://colab.research.google.com/assets/colab-badge.svg\" alt=\"Open In Colab\"/></a>"
      ]
    },
    {
      "cell_type": "markdown",
      "metadata": {
        "id": "PCxpVa88uWks"
      },
      "source": [
        "데이터 준비하기 1\n",
        "\n",
        "GitHub github link: https://github.com/parkwoongbin/study_ML/tree/master/CSV\n",
        "\n",
        "레모네이드: https://raw.githubusercontent.com/parkwoongbin/study_ML/master/CSV/lemonade.csv "
      ]
    },
    {
      "cell_type": "code",
      "metadata": {
        "id": "vkECmKOMu7yU"
      },
      "source": [
        "#판다스 가져오기\n",
        "import pandas as pd"
      ],
      "execution_count": null,
      "outputs": []
    },
    {
      "cell_type": "code",
      "metadata": {
        "id": "fQn1OplWu-Fq"
      },
      "source": [
        "# 파일로부터 데이터 읽어오기\n",
        "파일경로 = 'https://raw.githubusercontent.com/parkwoongbin/study_ML/master/CSV/lemonade.csv'\n",
        "lemonade = pd.read_csv(파일경로)"
      ],
      "execution_count": null,
      "outputs": []
    },
    {
      "cell_type": "code",
      "metadata": {
        "id": "uxa8lOuRvBgO"
      },
      "source": [
        "# 데이터의 모양확인\n",
        "print(lemonade.shape)"
      ],
      "execution_count": null,
      "outputs": []
    },
    {
      "cell_type": "code",
      "metadata": {
        "id": "O9M4YgNMvEes"
      },
      "source": [
        "# 데이터 칼럼이름 확인 - Check data column name\n",
        "print(lemonade.columns)"
      ],
      "execution_count": null,
      "outputs": []
    },
    {
      "cell_type": "code",
      "metadata": {
        "id": "L3t8k8PavIt5"
      },
      "source": [
        "# 독립변수와 종속변수 분리 - Separation of independent and dependent variables\n",
        "독립 = lemonade[['온도']]\n",
        "종속 = lemonade[['판매량']]\n",
        "print(독립.shape, 종속.shape)"
      ],
      "execution_count": null,
      "outputs": []
    },
    {
      "cell_type": "code",
      "metadata": {
        "id": "_qyhuL7uvZwy"
      },
      "source": [
        "#각각의 데이터 확인해보기 - Check out your data\n",
        "lemonade.head()"
      ],
      "execution_count": null,
      "outputs": []
    }
  ]
}